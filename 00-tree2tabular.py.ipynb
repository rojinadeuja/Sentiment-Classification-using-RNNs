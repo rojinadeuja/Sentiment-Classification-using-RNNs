{
 "cells": [
  {
   "cell_type": "code",
   "execution_count": 2,
   "metadata": {},
   "outputs": [
    {
     "name": "stdout",
     "output_type": "stream",
     "text": [
      "8544\n"
     ]
    }
   ],
   "source": [
    "# Load data\n",
    "import pytreebank\n",
    "import sys\n",
    "import os\n",
    "\n",
    "out_path = os.path.join(sys.path[0], 'Datasets/sst_{}.txt')\n",
    "dataset = pytreebank.load_sst('Datasets/raw_data')\n",
    "\n",
    "# Store train, dev and test in separate files\n",
    "for category in ['train', 'test', 'dev']:\n",
    "    with open(out_path.format(category), 'w') as outfile:\n",
    "        for item in dataset[category]:\n",
    "            outfile.write(\"__label__{}\\t{}\\n\".format(\n",
    "                item.to_labeled_lines()[0][0] + 1,\n",
    "                item.to_labeled_lines()[0][1]\n",
    "            ))\n",
    "# Print the length of the training set\n",
    "print(len(dataset['train']))"
   ]
  }
 ],
 "metadata": {
  "kernelspec": {
   "display_name": "Python 3",
   "language": "python",
   "name": "python3"
  },
  "language_info": {
   "codemirror_mode": {
    "name": "ipython",
    "version": 3
   },
   "file_extension": ".py",
   "mimetype": "text/x-python",
   "name": "python",
   "nbconvert_exporter": "python",
   "pygments_lexer": "ipython3",
   "version": "3.7.5"
  }
 },
 "nbformat": 4,
 "nbformat_minor": 2
}
